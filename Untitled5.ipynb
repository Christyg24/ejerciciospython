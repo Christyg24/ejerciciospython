{
  "nbformat": 4,
  "nbformat_minor": 0,
  "metadata": {
    "colab": {
      "name": "Untitled5.ipynb",
      "provenance": [],
      "authorship_tag": "ABX9TyOOe5sUuFlFsvO3z25BG81I",
      "include_colab_link": true
    },
    "kernelspec": {
      "name": "python3",
      "display_name": "Python 3"
    },
    "language_info": {
      "name": "python"
    }
  },
  "cells": [
    {
      "cell_type": "markdown",
      "metadata": {
        "id": "view-in-github",
        "colab_type": "text"
      },
      "source": [
        "<a href=\"https://colab.research.google.com/github/Christyg24/ejerciciospython/blob/main/Untitled5.ipynb\" target=\"_parent\"><img src=\"https://colab.research.google.com/assets/colab-badge.svg\" alt=\"Open In Colab\"/></a>"
      ]
    },
    {
      "cell_type": "code",
      "execution_count": 8,
      "metadata": {
        "id": "N5rSqYI4nZbq"
      },
      "outputs": [],
      "source": [
        "def datosPersonales(nom):\n",
        "  print(\"saludos desde mi funcione\")\n",
        "  print(f\"nombre: {nom}\")"
      ]
    },
    {
      "cell_type": "code",
      "source": [
        "datosPersonales(\"Marta\")"
      ],
      "metadata": {
        "colab": {
          "base_uri": "https://localhost:8080/"
        },
        "id": "N5WFcYg0oAnA",
        "outputId": "b294de8d-d2a3-4d6b-ba78-d9e92a6aab9d"
      },
      "execution_count": 10,
      "outputs": [
        {
          "output_type": "stream",
          "name": "stdout",
          "text": [
            "saludos desde mi funcione\n",
            "nombre: Marta\n"
          ]
        }
      ]
    }
  ]
}