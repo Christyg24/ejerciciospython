{
  "nbformat": 4,
  "nbformat_minor": 0,
  "metadata": {
    "colab": {
      "name": "ejercicio16.ipynb",
      "provenance": [],
      "authorship_tag": "ABX9TyNavY5b528KUaRv//jubZEY",
      "include_colab_link": true
    },
    "kernelspec": {
      "name": "python3",
      "display_name": "Python 3"
    },
    "language_info": {
      "name": "python"
    }
  },
  "cells": [
    {
      "cell_type": "markdown",
      "metadata": {
        "id": "view-in-github",
        "colab_type": "text"
      },
      "source": [
        "<a href=\"https://colab.research.google.com/github/Christyg24/ejerciciospython/blob/main/ejercicio16.ipynb\" target=\"_parent\"><img src=\"https://colab.research.google.com/assets/colab-badge.svg\" alt=\"Open In Colab\"/></a>"
      ]
    },
    {
      "cell_type": "markdown",
      "source": [
        "**1.-Ejercicios if/else**"
      ],
      "metadata": {
        "id": "UFGF_rnLawXx"
      }
    },
    {
      "cell_type": "code",
      "source": [
        "x = bool(input(\"ingrese verdad o false: \"))\n",
        "\n",
        "if x == True:\n",
        " print(\"es verdad\")\n",
        "else:\n",
        "  print(\"es falso\")\n"
      ],
      "metadata": {
        "colab": {
          "base_uri": "https://localhost:8080/"
        },
        "id": "povK-vQWbE34",
        "outputId": "6d47772a-affb-4ed8-a93b-36ff5f1810ac"
      },
      "execution_count": 26,
      "outputs": [
        {
          "output_type": "stream",
          "name": "stdout",
          "text": [
            "ingrese verdad o false: \n",
            "es falso\n"
          ]
        }
      ]
    },
    {
      "cell_type": "code",
      "source": [
        "x = int(input(\"ingrese 1 o 2: \"))\n",
        "\n",
        "if x == 1:\n",
        "  print(\"es verdad\")\n",
        "elif x == 2:\n",
        "  print(\"es false\")\n",
        "else:\n",
        "  print(\"no encontrado\")"
      ],
      "metadata": {
        "colab": {
          "base_uri": "https://localhost:8080/"
        },
        "id": "fHXlPaoSeeb0",
        "outputId": "b13ab0a1-4be6-4d46-fbcf-ec384383ceeb"
      },
      "execution_count": 40,
      "outputs": [
        {
          "output_type": "stream",
          "name": "stdout",
          "text": [
            "ingrese 1 o 2: 1\n",
            "es verdad\n"
          ]
        }
      ]
    },
    {
      "cell_type": "code",
      "source": [
        "x = int(input(\"Ingrese 1 o 2: \"))\n",
        "\n",
        "if x == 1 or x == 2:\n",
        "  print(\"es verdad\")\n",
        "else:\n",
        "  print(\"no encontrado\")"
      ],
      "metadata": {
        "colab": {
          "base_uri": "https://localhost:8080/"
        },
        "id": "azDZlaRbld07",
        "outputId": "30de3fc4-7eec-49d2-be8c-4333bb92f090"
      },
      "execution_count": 43,
      "outputs": [
        {
          "output_type": "stream",
          "name": "stdout",
          "text": [
            "Ingrese 1 o 2: 4\n",
            "no encontrado\n"
          ]
        }
      ]
    },
    {
      "cell_type": "code",
      "source": [
        "numero =2\n",
        "while numero < 100:\n",
        " numero = numero * 2\n",
        " print (numero)\n"
      ],
      "metadata": {
        "colab": {
          "base_uri": "https://localhost:8080/"
        },
        "id": "hP5W-_01nsJM",
        "outputId": "0986fd12-134c-4981-abd9-ecdbcb13bbe3"
      },
      "execution_count": 58,
      "outputs": [
        {
          "output_type": "stream",
          "name": "stdout",
          "text": [
            "4\n",
            "8\n",
            "16\n",
            "32\n",
            "64\n",
            "128\n"
          ]
        }
      ]
    }
  ]
}